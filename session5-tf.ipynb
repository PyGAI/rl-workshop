{
 "cells": [
  {
   "cell_type": "code",
   "execution_count": 1,
   "metadata": {},
   "outputs": [],
   "source": [
    "%matplotlib inline\n",
    "\n",
    "from collections import deque,namedtuple\n",
    "import random\n",
    "import gym\n",
    "import numpy as np\n",
    "import tensorflow as tf\n",
    "from tensorflow.keras import models, layers, optimizers\n",
    "from tqdm import tqdm_notebook\n",
    "\n",
    "import warnings\n",
    "warnings.filterwarnings('ignore')\n",
    "\n",
    "Transition = namedtuple('Transition', ('state', 'action', 'reward', 'next_state','done'))\n",
    "class VanillaMemory:\n",
    "    def __init__(self, memory_size):\n",
    "        self.memory_size = memory_size\n",
    "        self.memory = deque(maxlen=memory_size) \n",
    "    def add(self, *args):\n",
    "        t = Transition(*args)\n",
    "        self.memory.append(t)\n",
    "    def sample(self, batch_size):\n",
    "        ts = random.sample(self.memory, batch_size)\n",
    "        states = np.vstack([t.state for t in ts])\n",
    "        actions = np.vstack([t.action for t in ts])\n",
    "        rewards = np.vstack([t.reward for t in ts])\n",
    "        next_states = np.vstack([t.next_state for t in ts])\n",
    "        dones = np.vstack([t.done for t in ts]).astype(np.uint8)\n",
    "        return(states,actions,rewards,next_states,dones)\n",
    "        return random.sample(self.memory, batch_size)\n",
    "    def __len__(self):\n",
    "        return(len(self.memory))"
   ]
  },
  {
   "cell_type": "code",
   "execution_count": 2,
   "metadata": {},
   "outputs": [
    {
     "data": {
      "text/plain": [
       "0"
      ]
     },
     "execution_count": 2,
     "metadata": {},
     "output_type": "execute_result"
    }
   ],
   "source": [
    "mem = VanillaMemory(1000)\n",
    "len(mem)"
   ]
  },
  {
   "cell_type": "code",
   "execution_count": 3,
   "metadata": {},
   "outputs": [
    {
     "name": "stdout",
     "output_type": "stream",
     "text": [
      "\u001b[33mWARN: gym.spaces.Box autodetected dtype as <class 'numpy.float32'>. Please provide explicit dtype.\u001b[0m\n",
      "Done in 200 timsteps with score -200.0.\n"
     ]
    }
   ],
   "source": [
    "env = gym.make('MountainCar-v0')\n",
    "state = env.reset()\n",
    "score = 0\n",
    "t=0\n",
    "frames = []\n",
    "while True:\n",
    "    action = np.random.choice([0,1,2])\n",
    "    next_state, reward, done, info = env.step(action)\n",
    "    mem.add(state,action,reward,next_state,done)\n",
    "    \n",
    "    state = next_state\n",
    "    t+=1\n",
    "    score+=reward\n",
    "    if done: break\n",
    "print(f'Done in {t} timsteps with score {score}.')"
   ]
  },
  {
   "cell_type": "code",
   "execution_count": 4,
   "metadata": {},
   "outputs": [
    {
     "data": {
      "text/plain": [
       "(array([[-0.49779804,  0.00551482],\n",
       "        [-0.4311884 ,  0.00918203],\n",
       "        [-0.62012039,  0.00481292]]), array([[2],\n",
       "        [0],\n",
       "        [0]]), array([[-1.],\n",
       "        [-1.],\n",
       "        [-1.]]), array([[-0.49147654,  0.00632151],\n",
       "        [-0.4236906 ,  0.0074978 ],\n",
       "        [-0.61559363,  0.00452676]]), array([[0],\n",
       "        [0],\n",
       "        [0]], dtype=uint8))"
      ]
     },
     "execution_count": 4,
     "metadata": {},
     "output_type": "execute_result"
    }
   ],
   "source": [
    "mem.sample(3)"
   ]
  },
  {
   "cell_type": "code",
   "execution_count": 5,
   "metadata": {},
   "outputs": [
    {
     "data": {
      "text/plain": [
       "[]"
      ]
     },
     "execution_count": 5,
     "metadata": {},
     "output_type": "execute_result"
    }
   ],
   "source": [
    "class CriticNetwork(models.Model):\n",
    "    def __init__(self, action_size, nb_hidden):\n",
    "        super(CriticNetwork,self).__init__()\n",
    "        self.body = [layers.Dense(i, activation='relu') for i in nb_hidden]\n",
    "        self.head = layers.Dense(action_size)\n",
    "    def call(self,state):\n",
    "        x = state\n",
    "        for l in self.body: x = l(x) \n",
    "        return self.head(x)\n",
    "m = CriticNetwork(env.action_space.n, [256])\n",
    "m.trainable_weights"
   ]
  },
  {
   "cell_type": "code",
   "execution_count": 6,
   "metadata": {},
   "outputs": [
    {
     "data": {
      "text/plain": [
       "[TensorShape([2, 256]),\n",
       " TensorShape([256]),\n",
       " TensorShape([256, 3]),\n",
       " TensorShape([3])]"
      ]
     },
     "execution_count": 6,
     "metadata": {},
     "output_type": "execute_result"
    }
   ],
   "source": [
    "#you need to build with input dimensions first to get weights\n",
    "m.build(input_shape=(None,env.reset().shape[0]))\n",
    "[i.shape for i in m.trainable_weights]"
   ]
  },
  {
   "cell_type": "code",
   "execution_count": 7,
   "metadata": {},
   "outputs": [
    {
     "data": {
      "text/plain": [
       "<tf.Tensor: id=70, shape=(1, 3), dtype=float32, numpy=array([[0.00910168, 0.03327731, 0.06524313]], dtype=float32)>"
      ]
     },
     "execution_count": 7,
     "metadata": {},
     "output_type": "execute_result"
    }
   ],
   "source": [
    "m(env.reset()[None,:])"
   ]
  },
  {
   "cell_type": "code",
   "execution_count": 8,
   "metadata": {},
   "outputs": [],
   "source": [
    "class DQNAgent:\n",
    "    def __init__(self, state_size, action_size, replay_memory,\n",
    "        lr=1e-3, bs = 64, clip=1., nb_hidden = [256],\n",
    "        gamma=0.99, tau= 1e-3, update_interval = 5, update_times = 1, tpe = 200):\n",
    "        \n",
    "        self.state_size = state_size\n",
    "        self.action_size = action_size\n",
    "        self.nb_hidden = nb_hidden\n",
    "        self.lr = lr\n",
    "        self.bs = bs\n",
    "        self.gamma = gamma\n",
    "        self.update_interval = update_interval\n",
    "        self.update_times = update_times\n",
    "        self.tau = tau\n",
    "        self.losses = []\n",
    "        self.tpe = tpe\n",
    "        self.clip = clip\n",
    "\n",
    "        #vanilla\n",
    "        self.network_local = CriticNetwork(self.action_size,self.nb_hidden)\n",
    "        self.network_local.build(input_shape=(None,self.state_size))\n",
    "        self.network_target = CriticNetwork(self.action_size,self.nb_hidden)\n",
    "        self.network_target.build(input_shape=(None,self.state_size))\n",
    "        self.network_target.set_weights(self.network_local.get_weights())\n",
    "        \n",
    "        #optimizer\n",
    "        self.optimizer = tf.keras.optimizers.Adam(learning_rate = self.lr, clipvalue=self.clip)\n",
    "        \n",
    "        # replay memory\n",
    "        self.memory = replay_memory\n",
    "        # count time steps\n",
    "        self.t_step = 0\n",
    "    \n",
    "    def get_eps(self, i, eps_start = 1., eps_end = 0.001, eps_decay = 0.9):\n",
    "        eps = max(eps_start * (eps_decay ** i), eps_end)\n",
    "        return(eps)\n",
    "    \n",
    "    def step(self, state, action, reward, next_state, done):\n",
    "        #add transition to replay memory\n",
    "        self.memory.add(state, action, reward, next_state, done)\n",
    "        \n",
    "        #update target network\n",
    "        self.soft_update()\n",
    "        \n",
    "        # learn every self.t_step\n",
    "        self.t_step += 1\n",
    "        if self.t_step % self.update_interval == 0:\n",
    "            if len(self.memory) > self.bs:\n",
    "                #vanilla\n",
    "                for _ in range(self.update_times):\n",
    "                    transitions = self.memory.sample(self.bs)\n",
    "                    loss = self.learn(transitions)\n",
    "                    self.losses.append(loss)\n",
    "                    \n",
    "    def act(self, state):\n",
    "        eps = self.get_eps(int(self.t_step / self.tpe))\n",
    "        action_values = self.network_local(state[None,:])\n",
    "        #epsilon greedy\n",
    "        if random.random() > eps:\n",
    "            return np.argmax(action_values.numpy())\n",
    "        else:\n",
    "            return random.choice(np.arange(self.action_size))\n",
    "\n",
    "    #we use tf.function decorator for training process to switch from eager to static graph\n",
    "    @tf.function\n",
    "    def learn(self, transitions):\n",
    "        states, actions, rewards, next_states, dones = transitions\n",
    "        \n",
    "        #when in tf.functions everything is tensor but maybe not the type we want\n",
    "        states = tf.cast(states,dtype=tf.float32)\n",
    "        actions = tf.cast(actions,dtype=tf.int32)\n",
    "        rewards = tf.cast(rewards,dtype=tf.float32)\n",
    "        next_states = tf.cast(next_states,dtype=tf.float32)\n",
    "        dones = tf.cast(dones,dtype=tf.float32)\n",
    "        \n",
    "        #get q_targets\n",
    "        q_targets_next = tf.reduce_max(self.network_target(next_states),1)[:,tf.newaxis]\n",
    "        q_targets = rewards + (self.gamma * q_targets_next) * (1 - dones)\n",
    "        q_targets = q_targets[:,0] #flatten q_targets\n",
    "\n",
    "        with tf.GradientTape() as tape:\n",
    "            #get predictions of all actions\n",
    "            preds = self.network_local(states)\n",
    "            \n",
    "            #get index of actions used to calculate q_expected\n",
    "            actions = actions[:,0] #flatten actions\n",
    "            seq = tf.range(0, actions.shape[0])\n",
    "            action_idxs = tf.transpose(tf.stack([seq, actions]))\n",
    "\n",
    "            #get q values only at specific action indice\n",
    "            #tensorflow has this weird way to gather where you need to put index as\n",
    "            #[[0, action_idx1],[1, action_idx2],...,[n, action_idxn]]\n",
    "            q_expected = tf.gather_nd(preds, action_idxs)\n",
    "            \n",
    "            #calculate loss\n",
    "            loss = tf.keras.losses.mse(q_targets, q_expected)\n",
    "            \n",
    "            #get gradients\n",
    "            gradients = tape.gradient(loss, self.network_local.trainable_weights)\n",
    "        \n",
    "        #apply gradients\n",
    "        self.optimizer.apply_gradients(zip(gradients,self.network_local.trainable_weights))\n",
    "        return loss\n",
    "\n",
    "    def hard_update(self):\n",
    "        if self.t_step % 1/self.tau==0:\n",
    "            self.network_target.set_weights(self.network_local.get_weights())\n",
    "\n",
    "    def soft_update(self):\n",
    "        weights_local = np.array(self.network_local.get_weights())\n",
    "        weights_target = np.array(self.network_target.get_weights())\n",
    "        self.network_target.set_weights(self.tau * weights_local + (1 - self.tau) * weights_target)"
   ]
  },
  {
   "cell_type": "code",
   "execution_count": 9,
   "metadata": {},
   "outputs": [
    {
     "name": "stdout",
     "output_type": "stream",
     "text": [
      "\u001b[33mWARN: gym.spaces.Box autodetected dtype as <class 'numpy.float32'>. Please provide explicit dtype.\u001b[0m\n"
     ]
    }
   ],
   "source": [
    "env = gym.make('CartPole-v1')\n",
    "mem = VanillaMemory(int(1e5)) \n",
    "a = DQNAgent(state_size = env.reset().shape[0], \n",
    "             action_size = env.action_space.n, replay_memory = mem) "
   ]
  },
  {
   "cell_type": "code",
   "execution_count": 10,
   "metadata": {},
   "outputs": [
    {
     "data": {
      "application/vnd.jupyter.widget-view+json": {
       "model_id": "6cdab6a5d4544b21b7bad860c507c07e",
       "version_major": 2,
       "version_minor": 0
      },
      "text/plain": [
       "HBox(children=(IntProgress(value=0, max=500), HTML(value='')))"
      ]
     },
     "metadata": {},
     "output_type": "display_data"
    },
    {
     "name": "stdout",
     "output_type": "stream",
     "text": [
      "Episdoe 99 Moving Average: 17.31313131313131\n",
      "Episdoe 199 Moving Average: 12.7\n",
      "Episdoe 299 Moving Average: 16.75\n",
      "Episdoe 399 Moving Average: 133.6\n",
      "Solved at Play 425: 0:01:42.265804 Moving average: 190.12\n"
     ]
    }
   ],
   "source": [
    "from datetime import datetime\n",
    "\n",
    "scores = []\n",
    "scores_deque = deque(maxlen=100) \n",
    "moving_scores = []\n",
    "start_time = datetime.now()\n",
    "solved_score=190\n",
    "\n",
    "for i in tqdm_notebook(range(500)):\n",
    "    if (i+1) % 100==0: print(f'Episdoe {i} Moving Average: {np.mean(scores_deque)}')\n",
    "    state = env.reset()\n",
    "    score = 0\n",
    "    t=0\n",
    "    while True:\n",
    "        t+=1\n",
    "        #select action\n",
    "        action = a.act(state)  \n",
    "\n",
    "        #env step\n",
    "        next_state, reward, done, info = env.step(action)   \n",
    "        \n",
    "        #engineer the reward to motive your agent even more\n",
    "        if done: \n",
    "            fake_reward = reward #+ (200-t)/10\n",
    "        else:\n",
    "            fake_reward = reward\n",
    "\n",
    "        #agent step\n",
    "        a.step(state,action,fake_reward,next_state,done)\n",
    "        \n",
    "        #collect score\n",
    "        score += reward\n",
    "        \n",
    "        #go to next state\n",
    "        state = next_state   \n",
    "        \n",
    "        #break if done\n",
    "        if done: break\n",
    "            \n",
    "    #book keeping\n",
    "    scores.append(score)\n",
    "    scores_deque.append(score)\n",
    "    moving_scores.append(np.mean(scores_deque))\n",
    "        \n",
    "    if moving_scores[-1] > solved_score: \n",
    "        print(f'Solved at Play {i}: {datetime.now() - start_time} Moving average: {moving_scores[-1]}')\n",
    "        break"
   ]
  },
  {
   "cell_type": "code",
   "execution_count": 11,
   "metadata": {},
   "outputs": [
    {
     "data": {
      "text/plain": [
       "[<matplotlib.lines.Line2D at 0x7fcdb84bd278>]"
      ]
     },
     "execution_count": 11,
     "metadata": {},
     "output_type": "execute_result"
    },
    {
     "data": {
      "image/png": "[encoded data removed]",
      "text/plain": [
       "<Figure size 432x288 with 1 Axes>"
      ]
     },
     "metadata": {
      "needs_background": "light"
     },
     "output_type": "display_data"
    }
   ],
   "source": [
    "import matplotlib.pyplot as plt\n",
    "plt.plot(scores)\n",
    "plt.plot(moving_scores)"
   ]
  },
  {
   "cell_type": "code",
   "execution_count": 12,
   "metadata": {},
   "outputs": [
    {
     "data": {
      "text/plain": [
       "[<matplotlib.lines.Line2D at 0x7fcd806fc518>]"
      ]
     },
     "execution_count": 12,
     "metadata": {},
     "output_type": "execute_result"
    },
    {
     "data": {
      "image/png": "[encoded data removed]",
      "text/plain": [
       "<Figure size 432x288 with 1 Axes>"
      ]
     },
     "metadata": {
      "needs_background": "light"
     },
     "output_type": "display_data"
    }
   ],
   "source": [
    "plt.plot(a.losses)"
   ]
  },
  {
   "cell_type": "code",
   "execution_count": null,
   "metadata": {},
   "outputs": [],
   "source": []
  }
 ],
 "metadata": {
  "kernelspec": {
   "display_name": "Python 3",
   "language": "python",
   "name": "python3"
  },
  "language_info": {
   "codemirror_mode": {
    "name": "ipython",
    "version": 3
   },
   "file_extension": ".py",
   "mimetype": "text/x-python",
   "name": "python",
   "nbconvert_exporter": "python",
   "pygments_lexer": "ipython3",
   "version": "3.6.8"
  }
 },
 "nbformat": 4,
 "nbformat_minor": 2
}
