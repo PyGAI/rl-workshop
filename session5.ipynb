{
 "cells": [
  {
   "cell_type": "markdown",
   "metadata": {},
   "source": [
    "# Session 5: Deep Deep Q-learning to Drive MountainCar"
   ]
  },
  {
   "cell_type": "markdown",
   "metadata": {},
   "source": [
    "## Setups"
   ]
  },
  {
   "cell_type": "code",
   "execution_count": 1,
   "metadata": {},
   "outputs": [],
   "source": [
    "# #uncomment only if you're running from google colab\n",
    "# !git clone https://github.com/Datatouille/rl-workshop\n",
    "# !mv rl-workshop/* .\n",
    "# !ls\n",
    "\n",
    "# #gym\n",
    "# !pip install gym #For full installations, see https://github.com/openai/gym#installation\n",
    "\n",
    "# #displays\n",
    "# !pip install pyvirtualdisplay\n",
    "# !sudo apt-get install xvfb\n",
    "\n",
    "# #torch and numpy\n",
    "# !pip install numpy \n",
    "# !pip install torch torchvision\n",
    "# import torch\n",
    "# torch.__version__"
   ]
  },
  {
   "cell_type": "markdown",
   "metadata": {},
   "source": [
    "## Imports"
   ]
  },
  {
   "cell_type": "code",
   "execution_count": 2,
   "metadata": {},
   "outputs": [],
   "source": [
    "%matplotlib inline\n",
    "\n",
    "#environments\n",
    "import gym\n",
    "\n",
    "\n",
    "#torch\n",
    "import torch\n",
    "import torch.nn as nn\n",
    "import torch.nn.functional as F\n",
    "from torch import optim\n",
    "#use cuda 0 if available; assuming 1 gpu\n",
    "device = torch.device(\"cuda:0\" if torch.cuda.is_available() else \"cpu\")\n",
    "\n",
    "#misc\n",
    "import numpy as np\n",
    "import matplotlib.pyplot as plt\n",
    "from tqdm import tqdm_notebook\n",
    "from datetime import datetime\n",
    "from collections import Counter, deque\n",
    "\n",
    "#solutions\n",
    "from solutions.agents import TaxiAgent\n",
    "\n",
    "#shut up warnings\n",
    "import warnings\n",
    "warnings.filterwarnings(\"ignore\")\n",
    "\n",
    "MODEL_PATH = 'models/'"
   ]
  },
  {
   "cell_type": "markdown",
   "metadata": {},
   "source": [
    "## Animation Imports"
   ]
  },
  {
   "cell_type": "code",
   "execution_count": null,
   "metadata": {},
   "outputs": [],
   "source": [
    "import matplotlib\n",
    "import matplotlib.pyplot as plt\n",
    "import matplotlib.animation\n",
    "from IPython.display import HTML\n",
    "from pyvirtualdisplay import Display\n",
    "\n",
    "#display\n",
    "display = Display(visible=0, size=(512, 512))\n",
    "display.start()\n",
    "import os\n",
    "os.environ[\"DISPLAY\"] = \":\" + str(display.display) + \".\" + str(display.screen)"
   ]
  },
  {
   "cell_type": "markdown",
   "metadata": {},
   "source": [
    "## Recap: What is Q-learning?"
   ]
  },
  {
   "cell_type": "markdown",
   "metadata": {},
   "source": [
    "For every **timestep**\n",
    "* **Step 1** Given state $s_t$, choose an action $a_t$ using epsilon greedy policy\n",
    "* **Step 2** Update the action value $Q(s_t,a_t)$ using the following equation:\n",
    "\n",
    "$Q(s_t,a_t) = Q(s_t,a_t) + \\alpha (R_{t+1} + \\gamma max_{a}Q(s_{t+1},a) - Q(s_t,a_t))$\n",
    "\n",
    "where $max_{a}Q(s_{t+1},a)$ is the highest action value given state $s_{t+1}$. \n",
    "\n",
    "<img src=\"img/qlearning.png\" alt=\"Q-learning\"/>\n",
    "\n",
    "where the green line denotes when we infer an action from the Q dictionary whereas the red lines denote when we udpate the Q dictionary.\n",
    "\n",
    "**Concept Assignment** Run the Q-learning algorithm implemented in the `solutions` and answer the following questions:\n",
    "\n",
    "1. What do the hyperparameters - gamma, alpha, and epsilon - mean?\n",
    "2. Look inside the Q dictionary and explain how the agent choose an action based on this."
   ]
  },
  {
   "cell_type": "code",
   "execution_count": null,
   "metadata": {},
   "outputs": [],
   "source": [
    "#setups\n",
    "env = gym.make('Taxi-v2')\n",
    "a = TaxiAgent(env, gamma = 0.8, alpha = 1e-1,\n",
    "                 start_epsilon = 1, end_epsilon = 1e-2, epsilon_decay = 0.999)"
   ]
  },
  {
   "cell_type": "code",
   "execution_count": null,
   "metadata": {},
   "outputs": [],
   "source": [
    "#train\n",
    "scores = []\n",
    "moving_scores = []\n",
    "\n",
    "moving_nb = 100\n",
    "solved_score = 5\n",
    "start_time = datetime.now()\n",
    "\n",
    "for i in tqdm_notebook(range(10000)):\n",
    "    #for the record\n",
    "    score = 0\n",
    "    \n",
    "    #initiate state\n",
    "    state = env.reset()\n",
    "    while True:\n",
    "        \n",
    "        #get action\n",
    "        action = a.select_action(state, a.get_epsilon(i))\n",
    "        \n",
    "        #step environment\n",
    "        next_state, reward, done, info = env.step(action)\n",
    "        \n",
    "        #update agent\n",
    "        a.sarsa_update(state, action, reward, next_state, i)\n",
    "        \n",
    "        #records\n",
    "        score+=reward\n",
    "        \n",
    "        #move to next state\n",
    "        state = next_state\n",
    "        \n",
    "        #end if drop off at destination\n",
    "        if reward==20: break\n",
    "            \n",
    "    #record\n",
    "    scores.append(score)\n",
    "    \n",
    "    if i > moving_nb:\n",
    "        moving_score = np.mean(scores[i-moving_nb:i])\n",
    "        moving_scores.append(moving_score)\n",
    "    else:\n",
    "        moving_scores.append(0)\n",
    "        \n",
    "    #break if solved\n",
    "    if moving_scores[-1] > solved_score: \n",
    "        print(f'Solved at Play {i}: {datetime.now() - start_time} Moving average: {moving_scores[-1]}')\n",
    "        break"
   ]
  },
  {
   "cell_type": "code",
   "execution_count": null,
   "metadata": {},
   "outputs": [],
   "source": [
    "plt.plot(moving_scores[:5000])\n",
    "print(f'100-episode average score: {moving_scores[-1]}')"
   ]
  },
  {
   "cell_type": "code",
   "execution_count": null,
   "metadata": {},
   "outputs": [],
   "source": [
    "'''\n",
    "Write Your Code Here\n",
    "'''"
   ]
  },
  {
   "cell_type": "markdown",
   "metadata": {},
   "source": [
    "## [MountainCar-v0](https://gym.openai.com/envs/MountainCar-v0/)"
   ]
  },
  {
   "cell_type": "markdown",
   "metadata": {},
   "source": [
    "`A car is on a one-dimensional track, positioned between two \"mountains\". The goal is to drive up the mountain on the right; however, the car's engine is not strong enough to scale the mountain in a single pass. Therefore, the only way to succeed is to drive back and forth to build up momentum.`"
   ]
  },
  {
   "cell_type": "code",
   "execution_count": null,
   "metadata": {},
   "outputs": [],
   "source": [
    "env = gym.make('MountainCar-v0')\n",
    "state = env.reset()\n",
    "score = 0\n",
    "t=0\n",
    "frames = []\n",
    "while True:\n",
    "    action = np.random.choice([0,1,2])\n",
    "    state, reward, done, info = env.step(action)\n",
    "    t+=1\n",
    "    score+=reward\n",
    "    \n",
    "    #append frame\n",
    "    frames.append(env.render(mode = 'rgb_array'))\n",
    "    if done: break\n",
    "print(f'Done in {t} timsteps with score {score}.')"
   ]
  },
  {
   "cell_type": "code",
   "execution_count": null,
   "metadata": {},
   "outputs": [],
   "source": [
    "#animate frames\n",
    "patch = plt.imshow(frames[0])\n",
    "animate = lambda i: patch.set_data(frames[i])\n",
    "ani = matplotlib.animation.FuncAnimation(plt.gcf(), animate, frames=len(frames), interval = 1)\n",
    "HTML(ani.to_jshtml())"
   ]
  },
  {
   "cell_type": "markdown",
   "metadata": {},
   "source": [
    "**Coding Assignment** Before we dive in, let us do some warm-up exercises of finding out more about `MountainCar-v0`\n",
    "\n",
    "* State space\n",
    "* Action space\n",
    "* Rewards - It does not get anything for finishing the game but what about during the game?\n",
    "* How many episodes does it take for the game to end\n",
    "\n",
    "Hint: You can always look at its [source code](https://github.com/openai/gym/blob/master/gym/envs/classic_control/mountain_car.py)"
   ]
  },
  {
   "cell_type": "code",
   "execution_count": null,
   "metadata": {},
   "outputs": [],
   "source": [
    "#create environment\n",
    "env = gym.make('MountainCar-v0')\n",
    "env.reset()\n",
    "\n",
    "'''\n",
    "Write your code here\n",
    "'''\n"
   ]
  },
  {
   "cell_type": "markdown",
   "metadata": {},
   "source": [
    "## Deep Q-Learning (DQN)"
   ]
  },
  {
   "cell_type": "markdown",
   "metadata": {},
   "source": [
    "Deep Q-learning works almost the same as its \"shallow\" counterpart.\n",
    "\n",
    "For every timestep:\n",
    "\n",
    "1. We initialize the agent with two random Q networks: **local network** and **target network**.\n",
    "\n",
    "2. The agent takes an epislon-greedy action based on given state.\n",
    "\n",
    "3. We explicitly stores `(state, action, reward, next state)` tuples in a **replay memory** to be sampled and trained by the agent. We usually store the last arbitrary number of episodes to get memories \"fresh\" enough to be relevant but \"old\" enough for the training to be stable.\n",
    "\n",
    "4. Every few timesteps, we update the **local network** using randomly chosen tuples from replay memory. This is done by calculating the loss with respect to the baseline which is the output of **target network**\n",
    "\n",
    "5. Once in a while we copy the weights of the **local network** onto the **target network** in order to update the baseline.\n",
    "\n",
    "<img src=\"img/dqn.png\" alt=\"DQN\"/>\n",
    "\n",
    "where the green lines denote the process of infering an action (either \"best\" or random) and red lines denote the process of updating the Q network.\n",
    "\n",
    "Therefore, we need the following components:\n",
    "1. **Q Networks** - two neural networks that takes an input of state and output action values\n",
    "2. **Agent** - a class that wraps around Q network performs two main functions: choose an action using epsilon greedy policy and update (train) Q network\n",
    "3. **Replay Memory** - a data sampler than sample `(state, action, reward, next state)` tuples for training"
   ]
  },
  {
   "cell_type": "markdown",
   "metadata": {},
   "source": [
    "## Train Your Own DQN Agent"
   ]
  },
  {
   "cell_type": "markdown",
   "metadata": {},
   "source": [
    "Now that you understand the intuition behind how DQN works, let try training a model to solve `MountainCar-v0`. We will use an easy solve score of -150 as opposed to the official -110. Your goal is to adjust the hyperparameters to reach -150 over 100 episodes as soon as possible."
   ]
  },
  {
   "cell_type": "markdown",
   "metadata": {},
   "source": [
    "### Tune Hyperparameters"
   ]
  },
  {
   "cell_type": "markdown",
   "metadata": {},
   "source": [
    "Some hyperparameters are more impactful than others. The only way to know how much each should be is to understand the intuition behind them and experiment with your assumptions. For instance, in this case, the ones you should look out for include but not limited to:\n",
    "\n",
    "1. `lr` - The higher the learning rate, the faster your agent can learn but be careful not to set it too high otherwise your agent might be 'changing its mind' too fast and end up not learning anything. If your scores oscillate between some low numbers, it is a sign of too high a learning rate.\n",
    "\n",
    "2. `nb_hidden` - As you can see in `solutions/networks.py`, the Q networks are simply two layers of linear and ReLU. The larger the number of hidden units for each layer, the more abstraction it can handle but it might take you longer to train as well.\n",
    "\n",
    "3. `tau` - This is basically how fast you want to update your target network. For instance, `tau` of 0.3 means that for each time step, the weights of your target network will be $0.3 * W_{local} + 0.7 * W_{target}$.\n",
    "\n",
    "4. `capacity` - This is not the agent's hyperparameter but rather its replay memory. The larger this is usually the better performance since the agent can sample more diverse transitions but that comes also with speed of training.\n",
    "\n",
    "5. `update_interval` and `update_times` - The agent will update the local network every `update_interval` for `update_times` times. Updating your network too often can lead to unstable learning; updating too intermittenly will lead to slow speed of training."
   ]
  },
  {
   "cell_type": "code",
   "execution_count": null,
   "metadata": {},
   "outputs": [],
   "source": [
    "from solutions.memory import VanillaMemory\n",
    "from solutions.agents import DQNAgent\n",
    "\n",
    "env = gym.make('MountainCar-v0')\n",
    "mem = VanillaMemory(capacity=int(1e3)) #always store `capacity` timesteps\n",
    "a = DQNAgent(state_size = 2, action_size = 3, replay_memory = mem, seed = 1412,\n",
    "        lr = 1e-3, #learning rate; try something between 1e-4 and 1e-3\n",
    "        bs = 256, #batch size; try 64, 128, 256\n",
    "        clip = 1., #gradient clipping\n",
    "        nb_hidden = 64, #number of hidden units in the q network; try 64,128,256,512\n",
    "        gamma = 0.99, #discount factor\n",
    "        tau= 1e-3, #how fast we update the target network; try something between 1e-2 and 1e-3\n",
    "        update_interval = 5,  #how often we update local network\n",
    "        update_times = 1, #how many times you train the local network per update\n",
    "        tpe = 200) #how many timesteps per episode"
   ]
  },
  {
   "cell_type": "markdown",
   "metadata": {},
   "source": [
    "You might think there is not much to do during training once all hyperparameters are fixed, but remember that we can also **engineer the reward** of our agent. Here we pass `fake_reward` to the agent for its step. Currently, the fake reward is equal to the real reward. Think of some ways to engineer the reward so that the agent gets even more motivated in finishing the task."
   ]
  },
  {
   "cell_type": "code",
   "execution_count": null,
   "metadata": {},
   "outputs": [],
   "source": [
    "scores = []\n",
    "scores_deque = deque(maxlen=100) \n",
    "moving_scores = []\n",
    "start_time = datetime.now()\n",
    "\n",
    "for i in tqdm_notebook(range(1000)):\n",
    "    if (i+1) % 100==0: print(f'Episdoe {i} Moving Average: {np.mean(scores_deque)}')\n",
    "    state = env.reset()\n",
    "    score = 0\n",
    "    t=0\n",
    "    while True:\n",
    "        t+=1\n",
    "        #select action\n",
    "        action = a.act(state)  \n",
    "\n",
    "        #env step\n",
    "        next_state, reward, done, info = env.step(action)   \n",
    "        \n",
    "        #engineer the reward to motive your agent even more\n",
    "        fake_reward = reward\n",
    "\n",
    "        #agent step\n",
    "        a.step(state,action,fake_reward,next_state,done)\n",
    "        \n",
    "        #collect score\n",
    "        score += reward\n",
    "        \n",
    "        #go to next state\n",
    "        state = next_state   \n",
    "        \n",
    "        #break if done\n",
    "        if done: break\n",
    "            \n",
    "    #book keeping\n",
    "    scores.append(score)\n",
    "    scores_deque.append(score)\n",
    "    moving_scores.append(np.mean(scores_deque))\n",
    "        \n",
    "    #solved at -110; easy solve at -150\n",
    "    if moving_scores[-1] > -110: \n",
    "        print(f'Solved at Play {i}: {datetime.now() - start_time} Moving average: {moving_scores[-1]}')\n",
    "        break"
   ]
  },
  {
   "cell_type": "markdown",
   "metadata": {},
   "source": [
    "It is also very useful to look at diagnostics of the models as you train:\n",
    "\n",
    "* **Scores and average scores** - Your most important indicators. If they are stagnating, you should try tuning your hyperparameters because definitely there is something wrong.\n",
    "* **Loss of local network** - Counterintuitively to when you train supervised models, a stable loss usually means a bad thing for a DQN agent. This is usually because the agent is either learning too slowly or not learning at all."
   ]
  },
  {
   "cell_type": "code",
   "execution_count": null,
   "metadata": {},
   "outputs": [],
   "source": [
    "plt.plot(scores)\n",
    "plt.plot(moving_scores)"
   ]
  },
  {
   "cell_type": "code",
   "execution_count": null,
   "metadata": {},
   "outputs": [],
   "source": [
    "plt.plot(a.losses)"
   ]
  },
  {
   "cell_type": "markdown",
   "metadata": {},
   "source": [
    "Test Your agent with the code below once you're done."
   ]
  },
  {
   "cell_type": "code",
   "execution_count": null,
   "metadata": {},
   "outputs": [],
   "source": [
    "#somehow you need to do the animation import it again otherwise it wouldn't work\n",
    "import matplotlib\n",
    "import matplotlib.pyplot as plt\n",
    "import matplotlib.animation\n",
    "from IPython.display import HTML\n",
    "from pyvirtualdisplay import Display\n",
    "\n",
    "#display\n",
    "display = Display(visible=0, size=(512, 512))\n",
    "display.start()\n",
    "import os\n",
    "os.environ[\"DISPLAY\"] = \":\" + str(display.display) + \".\" + str(display.screen)"
   ]
  },
  {
   "cell_type": "code",
   "execution_count": null,
   "metadata": {},
   "outputs": [],
   "source": [
    "env = gym.make('MountainCar-v0')\n",
    "state = env.reset()\n",
    "score = 0\n",
    "t=0\n",
    "frames = []\n",
    "for i in trange(200):\n",
    "    #only infer action; no training\n",
    "    action = a.act(state)\n",
    "    \n",
    "    #env step\n",
    "    state, reward, done, info = env.step(action)\n",
    "    \n",
    "    #book keeping\n",
    "    t+=1\n",
    "    score+=reward\n",
    "    \n",
    "    #break if done\n",
    "    if done: break\n",
    "    \n",
    "    #append frame\n",
    "    frames.append(env.render(mode = 'rgb_array'))\n",
    "print(f'Done in {t} timsteps with score {score}.')"
   ]
  },
  {
   "cell_type": "code",
   "execution_count": null,
   "metadata": {},
   "outputs": [],
   "source": [
    "#animate frames\n",
    "patch = plt.imshow(frames[0])\n",
    "animate = lambda i: patch.set_data(frames[i])\n",
    "ani = matplotlib.animation.FuncAnimation(plt.gcf(), animate, frames=len(frames), interval = 1)\n",
    "HTML(ani.to_jshtml())"
   ]
  },
  {
   "cell_type": "markdown",
   "metadata": {},
   "source": [
    "## Inside DQN Agent"
   ]
  },
  {
   "cell_type": "markdown",
   "metadata": {},
   "source": [
    "We now look inside how each part of DQN works."
   ]
  },
  {
   "cell_type": "markdown",
   "metadata": {},
   "source": [
    "### Replay Memory"
   ]
  },
  {
   "cell_type": "markdown",
   "metadata": {},
   "source": [
    "Replay memory is a simple data class with only two methods: \n",
    "* `add` - add a tuple of `(state, action, reward, next_state,done)` to the memory\n",
    "* `sample` - randomly sample a batch of `(state, action, reward, next_state,done)` for the agent to use for training.\n",
    "\n",
    "**Coding Exercise** Refer to `solutions/memory.py` for source code of `VanillaMemory`.\n",
    "* Add a tuple of `(state, action, reward, next_state,done)` from the environment (you can play with random actions or your agent from before) until the newly created replay memory `mem` is full. You can see the number of items by calling `len(mem)`.\n",
    "* Sample a batch of 64 transitions. See what shapes are they in."
   ]
  },
  {
   "cell_type": "code",
   "execution_count": null,
   "metadata": {},
   "outputs": [],
   "source": [
    "env = gym.make('MountainCar-v0')\n",
    "mem = VanillaMemory(capacity=int(1e3)) #always store `capacity` timesteps\n",
    "\n",
    "'''\n",
    "Write your code here\n",
    "'''"
   ]
  },
  {
   "cell_type": "markdown",
   "metadata": {},
   "source": [
    "### Q Networks"
   ]
  },
  {
   "cell_type": "markdown",
   "metadata": {},
   "source": [
    "The Q networks are simply a neural network that takes input of state and output an action value for each action, as you can see in `solutions/networks.py`. A DQN agent has two networks:\n",
    "\n",
    "* **Local network** used to select action\n",
    "* **Target network** used as baseline to calculate the loss to train the local network\n",
    "\n",
    "The local network gets trained every a few timesteps using backpropagation. The target network DOES NOT get trained with backpropagation but just copy the weights of the local network as time goes on."
   ]
  },
  {
   "cell_type": "code",
   "execution_count": null,
   "metadata": {},
   "outputs": [],
   "source": [
    "a.network_local"
   ]
  },
  {
   "cell_type": "code",
   "execution_count": null,
   "metadata": {},
   "outputs": [],
   "source": [
    "a.network_target"
   ]
  },
  {
   "cell_type": "markdown",
   "metadata": {},
   "source": [
    "### Agent Action Selection"
   ]
  },
  {
   "cell_type": "markdown",
   "metadata": {},
   "source": [
    "The agent select an action EXACTLY the same way as they do in Q-learning.\n",
    "\n",
    "**Concept Assignment** How do you think the agent select an action? How does it take into account exploration? See the `act` and `get_eps` methods of class `DQNAgent` in `solutions/agent.py` for some hints."
   ]
  },
  {
   "cell_type": "code",
   "execution_count": null,
   "metadata": {},
   "outputs": [],
   "source": [
    "a.network_local(torch.tensor(env.reset(), dtype=torch.float))"
   ]
  },
  {
   "cell_type": "markdown",
   "metadata": {},
   "source": [
    "### Agent Update"
   ]
  },
  {
   "cell_type": "markdown",
   "metadata": {},
   "source": [
    "The update equation for DQN is as follows:\n",
    "\n",
    "$$Q_{target} = R_{t+1} + \\gamma\\underset{a}{\\operatorname{max}}Q_{target}(S_{t+1},a)$$\n",
    "$$Q_{expected} = Q_{local}(S_{t},a)$$\n",
    "$$L_{DQN} = E\\biggl[\\biggl(Q_{target} - Q_{expected}\\biggl)^2\\biggl] = MSELoss(Q_{target},Q_{expected})$$\n",
    "\n",
    "Another more efficient variation of this update equation is called **Double Deep Q Learning (DDQN)** which only makes change to $Q_{target}$ as follows:\n",
    "\n",
    "$$Q_{target} = R_{t+1} + \\gamma Q_{target}(S_{t+1},\\underset{a}{\\operatorname{argmax}}Q_{local}(S_{t+1},a))$$\n",
    "\n",
    "When calculating the target Q value, instead of just taking the maximum value, it takes the value that corresponds the best action of the local network instead. Doing this is reported by [its original paper](https://arxiv.org/pdf/1509.06461.pdf) to avoid overestimation of the action values."
   ]
  },
  {
   "cell_type": "code",
   "execution_count": null,
   "metadata": {},
   "outputs": [],
   "source": [
    "def learn(self, transitions, small_e = 1e-5):\n",
    "    #vanilla\n",
    "    states, actions, rewards, next_states, dones = transitions\n",
    "\n",
    "    #vanilla\n",
    "    q_targets_next = self.network_target(next_states).detach().max(1)[0].unsqueeze(1)\n",
    "    #double\n",
    "    max_actions_next = self.network_local(next_states).detach().max(1)[1].unsqueeze(1)\n",
    "    q_targets_next = self.network_target(next_states).detach().gather(1, max_actions_next.long())\n",
    "\n",
    "    #compute loss\n",
    "    q_targets = rewards + (self.gamma * q_targets_next) * (1 - dones)\n",
    "    q_expected = self.network_local(states).gather(1, actions.long())\n",
    "    #vanilla\n",
    "    loss = self.vanilla_loss(q_expected, q_targets)\n",
    "    #append for reporting\n",
    "    self.losses.append(loss)\n",
    "\n",
    "    #backprop\n",
    "    self.optimizer.zero_grad()\n",
    "    loss.backward()\n",
    "    if self.clip: torch.nn.utils.clip_grad_norm(self.network_local.parameters(), self.clip)\n",
    "    self.optimizer.step()"
   ]
  },
  {
   "cell_type": "markdown",
   "metadata": {},
   "source": [
    "## Challenges"
   ]
  },
  {
   "cell_type": "markdown",
   "metadata": {},
   "source": [
    "* Finetune the model and try to beat [OpenAI Leaderboard](https://github.com/openai/gym/wiki/Leaderboard) at 341 episodes. Use what you learn from this session such as creative reward engineering and other hyperparameter tunings.\n",
    "* Try to figure out how you can solve `MountainCarContinuous-v0`. It is almost exactly the same as `MountainCar-v0` but with continuous action space of size 1. See [NAF Q-learning](https://arxiv.org/abs/1603.00748) and [DDPG](https://arxiv.org/abs/1509.02971) papers for some hints."
   ]
  },
  {
   "cell_type": "markdown",
   "metadata": {},
   "source": [
    "## Solution"
   ]
  },
  {
   "cell_type": "markdown",
   "metadata": {},
   "source": [
    "### Model Setups"
   ]
  },
  {
   "cell_type": "code",
   "execution_count": 3,
   "metadata": {},
   "outputs": [
    {
     "name": "stdout",
     "output_type": "stream",
     "text": [
      "\u001b[33mWARN: gym.spaces.Box autodetected dtype as <class 'numpy.float32'>. Please provide explicit dtype.\u001b[0m\n"
     ]
    }
   ],
   "source": [
    "from solutions.memory import VanillaMemory\n",
    "from solutions.agents import DQNAgent\n",
    "\n",
    "env = gym.make('MountainCar-v0')\n",
    "mem = VanillaMemory(capacity=int(1e5)) #always store `capacity` timesteps\n",
    "a = DQNAgent(state_size = 2, action_size = 3, replay_memory = mem, seed = 1412,\n",
    "        lr = 1e-3, #learning rate\n",
    "        bs = 64, #batch size \n",
    "        clip = 1., #gradient clipping\n",
    "        nb_hidden = 256, #number of hidden units in the q network\n",
    "        gamma = 0.99, #discount factor\n",
    "        tau= 0.05, #how much we copy from local network to target network at a time\n",
    "        update_interval = 5,  #how often we update local network\n",
    "        update_times = 1,\n",
    "        tpe = 200) #how many timesteps per episode"
   ]
  },
  {
   "cell_type": "markdown",
   "metadata": {},
   "source": [
    "### Training"
   ]
  },
  {
   "cell_type": "code",
   "execution_count": 4,
   "metadata": {},
   "outputs": [
    {
     "data": {
      "application/vnd.jupyter.widget-view+json": {
       "model_id": "9686c6abff3646f2ba8bb9fec2afaf57",
       "version_major": 2,
       "version_minor": 0
      },
      "text/plain": [
       "HBox(children=(IntProgress(value=0, max=2000), HTML(value='')))"
      ]
     },
     "metadata": {},
     "output_type": "display_data"
    },
    {
     "name": "stdout",
     "output_type": "stream",
     "text": [
      "Episdoe 99 Moving Average: -189.77777777777777\n",
      "Episdoe 199 Moving Average: -153.96\n",
      "Episdoe 299 Moving Average: -125.28\n",
      "Episdoe 399 Moving Average: -122.88\n",
      "Episdoe 499 Moving Average: -116.93\n",
      "Episdoe 599 Moving Average: -120.95\n",
      "Episdoe 699 Moving Average: -119.14\n"
     ]
    },
    {
     "ename": "KeyboardInterrupt",
     "evalue": "",
     "output_type": "error",
     "traceback": [
      "\u001b[0;31m---------------------------------------------------------------------------\u001b[0m",
      "\u001b[0;31mKeyboardInterrupt\u001b[0m                         Traceback (most recent call last)",
      "\u001b[0;32m<ipython-input-4-d05817017851>\u001b[0m in \u001b[0;36m<module>\u001b[0;34m\u001b[0m\n\u001b[1;32m     24\u001b[0m \u001b[0;34m\u001b[0m\u001b[0m\n\u001b[1;32m     25\u001b[0m         \u001b[0;31m#agent step\u001b[0m\u001b[0;34m\u001b[0m\u001b[0;34m\u001b[0m\u001b[0;34m\u001b[0m\u001b[0m\n\u001b[0;32m---> 26\u001b[0;31m         \u001b[0ma\u001b[0m\u001b[0;34m.\u001b[0m\u001b[0mstep\u001b[0m\u001b[0;34m(\u001b[0m\u001b[0mstate\u001b[0m\u001b[0;34m,\u001b[0m\u001b[0maction\u001b[0m\u001b[0;34m,\u001b[0m\u001b[0mfake_reward\u001b[0m\u001b[0;34m,\u001b[0m\u001b[0mnext_state\u001b[0m\u001b[0;34m,\u001b[0m\u001b[0mdone\u001b[0m\u001b[0;34m)\u001b[0m\u001b[0;34m\u001b[0m\u001b[0;34m\u001b[0m\u001b[0m\n\u001b[0m\u001b[1;32m     27\u001b[0m \u001b[0;34m\u001b[0m\u001b[0m\n\u001b[1;32m     28\u001b[0m         \u001b[0;31m#collect score\u001b[0m\u001b[0;34m\u001b[0m\u001b[0;34m\u001b[0m\u001b[0;34m\u001b[0m\u001b[0m\n",
      "\u001b[0;32m/mnt/c/charin_projects/rl-workshop/solutions/agents.py\u001b[0m in \u001b[0;36mstep\u001b[0;34m(self, state, action, reward, next_state, done)\u001b[0m\n\u001b[1;32m    499\u001b[0m                 \u001b[0;32mfor\u001b[0m \u001b[0m_\u001b[0m \u001b[0;32min\u001b[0m \u001b[0mrange\u001b[0m\u001b[0;34m(\u001b[0m\u001b[0mself\u001b[0m\u001b[0;34m.\u001b[0m\u001b[0mupdate_times\u001b[0m\u001b[0;34m)\u001b[0m\u001b[0;34m:\u001b[0m\u001b[0;34m\u001b[0m\u001b[0;34m\u001b[0m\u001b[0m\n\u001b[1;32m    500\u001b[0m                     \u001b[0mtransitions\u001b[0m \u001b[0;34m=\u001b[0m \u001b[0mself\u001b[0m\u001b[0;34m.\u001b[0m\u001b[0mmemory\u001b[0m\u001b[0;34m.\u001b[0m\u001b[0msample\u001b[0m\u001b[0;34m(\u001b[0m\u001b[0mself\u001b[0m\u001b[0;34m.\u001b[0m\u001b[0mbs\u001b[0m\u001b[0;34m)\u001b[0m\u001b[0;34m\u001b[0m\u001b[0;34m\u001b[0m\u001b[0m\n\u001b[0;32m--> 501\u001b[0;31m                     \u001b[0mself\u001b[0m\u001b[0;34m.\u001b[0m\u001b[0mlearn\u001b[0m\u001b[0;34m(\u001b[0m\u001b[0mtransitions\u001b[0m\u001b[0;34m)\u001b[0m\u001b[0;34m\u001b[0m\u001b[0;34m\u001b[0m\u001b[0m\n\u001b[0m\u001b[1;32m    502\u001b[0m \u001b[0;34m\u001b[0m\u001b[0m\n\u001b[1;32m    503\u001b[0m     \u001b[0;32mdef\u001b[0m \u001b[0mact\u001b[0m\u001b[0;34m(\u001b[0m\u001b[0mself\u001b[0m\u001b[0;34m,\u001b[0m \u001b[0mstate\u001b[0m\u001b[0;34m)\u001b[0m\u001b[0;34m:\u001b[0m\u001b[0;34m\u001b[0m\u001b[0;34m\u001b[0m\u001b[0m\n",
      "\u001b[0;32m/mnt/c/charin_projects/rl-workshop/solutions/agents.py\u001b[0m in \u001b[0;36mlearn\u001b[0;34m(self, transitions, small_e)\u001b[0m\n\u001b[1;32m    539\u001b[0m         \u001b[0;31m#backprop\u001b[0m\u001b[0;34m\u001b[0m\u001b[0;34m\u001b[0m\u001b[0;34m\u001b[0m\u001b[0m\n\u001b[1;32m    540\u001b[0m         \u001b[0mself\u001b[0m\u001b[0;34m.\u001b[0m\u001b[0moptimizer\u001b[0m\u001b[0;34m.\u001b[0m\u001b[0mzero_grad\u001b[0m\u001b[0;34m(\u001b[0m\u001b[0;34m)\u001b[0m\u001b[0;34m\u001b[0m\u001b[0;34m\u001b[0m\u001b[0m\n\u001b[0;32m--> 541\u001b[0;31m         \u001b[0mloss\u001b[0m\u001b[0;34m.\u001b[0m\u001b[0mbackward\u001b[0m\u001b[0;34m(\u001b[0m\u001b[0;34m)\u001b[0m\u001b[0;34m\u001b[0m\u001b[0;34m\u001b[0m\u001b[0m\n\u001b[0m\u001b[1;32m    542\u001b[0m         \u001b[0;32mif\u001b[0m \u001b[0mself\u001b[0m\u001b[0;34m.\u001b[0m\u001b[0mclip\u001b[0m\u001b[0;34m:\u001b[0m \u001b[0mtorch\u001b[0m\u001b[0;34m.\u001b[0m\u001b[0mnn\u001b[0m\u001b[0;34m.\u001b[0m\u001b[0mutils\u001b[0m\u001b[0;34m.\u001b[0m\u001b[0mclip_grad_norm\u001b[0m\u001b[0;34m(\u001b[0m\u001b[0mself\u001b[0m\u001b[0;34m.\u001b[0m\u001b[0mnetwork_local\u001b[0m\u001b[0;34m.\u001b[0m\u001b[0mparameters\u001b[0m\u001b[0;34m(\u001b[0m\u001b[0;34m)\u001b[0m\u001b[0;34m,\u001b[0m \u001b[0mself\u001b[0m\u001b[0;34m.\u001b[0m\u001b[0mclip\u001b[0m\u001b[0;34m)\u001b[0m\u001b[0;34m\u001b[0m\u001b[0;34m\u001b[0m\u001b[0m\n\u001b[1;32m    543\u001b[0m         \u001b[0mself\u001b[0m\u001b[0;34m.\u001b[0m\u001b[0moptimizer\u001b[0m\u001b[0;34m.\u001b[0m\u001b[0mstep\u001b[0m\u001b[0;34m(\u001b[0m\u001b[0;34m)\u001b[0m\u001b[0;34m\u001b[0m\u001b[0;34m\u001b[0m\u001b[0m\n",
      "\u001b[0;32m~/anaconda3/envs/drlnd/lib/python3.6/site-packages/torch/tensor.py\u001b[0m in \u001b[0;36mbackward\u001b[0;34m(self, gradient, retain_graph, create_graph)\u001b[0m\n\u001b[1;32m    100\u001b[0m                 \u001b[0mproducts\u001b[0m\u001b[0;34m.\u001b[0m \u001b[0mDefaults\u001b[0m \u001b[0mto\u001b[0m\u001b[0;31m \u001b[0m\u001b[0;31m`\u001b[0m\u001b[0;31m`\u001b[0m\u001b[0;32mFalse\u001b[0m\u001b[0;31m`\u001b[0m\u001b[0;31m`\u001b[0m\u001b[0;34m.\u001b[0m\u001b[0;34m\u001b[0m\u001b[0;34m\u001b[0m\u001b[0m\n\u001b[1;32m    101\u001b[0m         \"\"\"\n\u001b[0;32m--> 102\u001b[0;31m         \u001b[0mtorch\u001b[0m\u001b[0;34m.\u001b[0m\u001b[0mautograd\u001b[0m\u001b[0;34m.\u001b[0m\u001b[0mbackward\u001b[0m\u001b[0;34m(\u001b[0m\u001b[0mself\u001b[0m\u001b[0;34m,\u001b[0m \u001b[0mgradient\u001b[0m\u001b[0;34m,\u001b[0m \u001b[0mretain_graph\u001b[0m\u001b[0;34m,\u001b[0m \u001b[0mcreate_graph\u001b[0m\u001b[0;34m)\u001b[0m\u001b[0;34m\u001b[0m\u001b[0;34m\u001b[0m\u001b[0m\n\u001b[0m\u001b[1;32m    103\u001b[0m \u001b[0;34m\u001b[0m\u001b[0m\n\u001b[1;32m    104\u001b[0m     \u001b[0;32mdef\u001b[0m \u001b[0mregister_hook\u001b[0m\u001b[0;34m(\u001b[0m\u001b[0mself\u001b[0m\u001b[0;34m,\u001b[0m \u001b[0mhook\u001b[0m\u001b[0;34m)\u001b[0m\u001b[0;34m:\u001b[0m\u001b[0;34m\u001b[0m\u001b[0;34m\u001b[0m\u001b[0m\n",
      "\u001b[0;32m~/anaconda3/envs/drlnd/lib/python3.6/site-packages/torch/autograd/__init__.py\u001b[0m in \u001b[0;36mbackward\u001b[0;34m(tensors, grad_tensors, retain_graph, create_graph, grad_variables)\u001b[0m\n\u001b[1;32m     88\u001b[0m     Variable._execution_engine.run_backward(\n\u001b[1;32m     89\u001b[0m         \u001b[0mtensors\u001b[0m\u001b[0;34m,\u001b[0m \u001b[0mgrad_tensors\u001b[0m\u001b[0;34m,\u001b[0m \u001b[0mretain_graph\u001b[0m\u001b[0;34m,\u001b[0m \u001b[0mcreate_graph\u001b[0m\u001b[0;34m,\u001b[0m\u001b[0;34m\u001b[0m\u001b[0;34m\u001b[0m\u001b[0m\n\u001b[0;32m---> 90\u001b[0;31m         allow_unreachable=True)  # allow_unreachable flag\n\u001b[0m\u001b[1;32m     91\u001b[0m \u001b[0;34m\u001b[0m\u001b[0m\n\u001b[1;32m     92\u001b[0m \u001b[0;34m\u001b[0m\u001b[0m\n",
      "\u001b[0;31mKeyboardInterrupt\u001b[0m: "
     ]
    }
   ],
   "source": [
    "scores = []\n",
    "scores_deque = deque(maxlen=100) \n",
    "moving_scores = []\n",
    "start_time = datetime.now()\n",
    "\n",
    "for i in tqdm_notebook(range(2000)):\n",
    "    if (i+1) % 100==0: print(f'Episdoe {i} Moving Average: {np.mean(scores_deque)}')\n",
    "    state = env.reset()\n",
    "    score = 0\n",
    "    t=0\n",
    "    while True:\n",
    "        t+=1\n",
    "        #select action\n",
    "        action = a.act(state)  \n",
    "\n",
    "        #env step\n",
    "        next_state, reward, done, info = env.step(action)   \n",
    "        \n",
    "        #extra reward\n",
    "            fake_reward = reward + (200-t)/10\n",
    "        else:\n",
    "            fake_reward = reward\n",
    "\n",
    "        #agent step\n",
    "        a.step(state,action,fake_reward,next_state,done)\n",
    "        \n",
    "        #collect score\n",
    "        score += reward\n",
    "        \n",
    "        #go to next state\n",
    "        state = next_state   \n",
    "        \n",
    "        #break if done\n",
    "        if done: break\n",
    "            \n",
    "    #book keeping\n",
    "    scores.append(score)\n",
    "    scores_deque.append(score)\n",
    "    moving_scores.append(np.mean(scores_deque))\n",
    "        \n",
    "    #solved at -110\n",
    "    if moving_scores[-1] > -110: \n",
    "        print(f'Solved at Play {i}: {datetime.now() - start_time} Moving average: {moving_scores[-1]}')\n",
    "        break"
   ]
  },
  {
   "cell_type": "markdown",
   "metadata": {},
   "source": [
    "### Diagnostics"
   ]
  },
  {
   "cell_type": "code",
   "execution_count": 5,
   "metadata": {},
   "outputs": [
    {
     "data": {
      "text/plain": [
       "[<matplotlib.lines.Line2D at 0x7fb3ce9905f8>]"
      ]
     },
     "execution_count": 5,
     "metadata": {},
     "output_type": "execute_result"
    },
    {
     "data": {
      "image/png": "[encoded data removed]",
      "text/plain": [
       "<Figure size 432x288 with 1 Axes>"
      ]
     },
     "metadata": {
      "needs_background": "light"
     },
     "output_type": "display_data"
    }
   ],
   "source": [
    "plt.plot(a.losses)"
   ]
  },
  {
   "cell_type": "code",
   "execution_count": 6,
   "metadata": {},
   "outputs": [
    {
     "data": {
      "text/plain": [
       "[<matplotlib.lines.Line2D at 0x7fb3ce634f28>]"
      ]
     },
     "execution_count": 6,
     "metadata": {},
     "output_type": "execute_result"
    },
    {
     "data": {
      "image/png": "[encoded data removed]",
      "text/plain": [
       "<Figure size 432x288 with 1 Axes>"
      ]
     },
     "metadata": {
      "needs_background": "light"
     },
     "output_type": "display_data"
    }
   ],
   "source": [
    "plt.plot(scores)\n",
    "plt.plot(moving_scores)"
   ]
  },
  {
   "cell_type": "markdown",
   "metadata": {},
   "source": [
    "### Save Model"
   ]
  },
  {
   "cell_type": "code",
   "execution_count": null,
   "metadata": {},
   "outputs": [],
   "source": [
    "#save network of solved agent\n",
    "# torch.save(a.network_local.state_dict(),f'models/dqn.pth')\n",
    "\n",
    "#load saved model\n",
    "a = DQNAgent(state_size = 2, action_size = 3)\n",
    "a.network_local.load_state_dict(torch.load(f'models/dqn.pth'))\n",
    "a.t_step = 1e10"
   ]
  },
  {
   "cell_type": "markdown",
   "metadata": {},
   "source": [
    "### Test Model"
   ]
  },
  {
   "cell_type": "code",
   "execution_count": null,
   "metadata": {},
   "outputs": [],
   "source": [
    "#somehow you need to do the animation import it again otherwise it wouldn't work\n",
    "import matplotlib\n",
    "import matplotlib.pyplot as plt\n",
    "import matplotlib.animation\n",
    "from IPython.display import HTML\n",
    "from pyvirtualdisplay import Display\n",
    "\n",
    "#display\n",
    "display = Display(visible=0, size=(512, 512))\n",
    "display.start()\n",
    "import os\n",
    "os.environ[\"DISPLAY\"] = \":\" + str(display.display) + \".\" + str(display.screen)"
   ]
  },
  {
   "cell_type": "code",
   "execution_count": null,
   "metadata": {},
   "outputs": [],
   "source": [
    "env = gym.make('MountainCar-v0')\n",
    "state = env.reset()\n",
    "score = 0\n",
    "t=0\n",
    "frames = []\n",
    "for i in trange(200):\n",
    "    #only infer action; no training\n",
    "    action = a.act(state)\n",
    "    \n",
    "    #env step\n",
    "    state, reward, done, info = env.step(action)\n",
    "    \n",
    "    #book keeping\n",
    "    t+=1\n",
    "    score+=reward\n",
    "    \n",
    "    #break if done\n",
    "    if done: break\n",
    "    \n",
    "    #append frame\n",
    "    frames.append(env.render(mode = 'rgb_array'))\n",
    "print(f'Done in {t} timsteps with score {score}.')"
   ]
  },
  {
   "cell_type": "code",
   "execution_count": null,
   "metadata": {},
   "outputs": [],
   "source": [
    "#animate frames\n",
    "patch = plt.imshow(frames[0])\n",
    "animate = lambda i: patch.set_data(frames[i])\n",
    "ani = matplotlib.animation.FuncAnimation(plt.gcf(), animate, frames=len(frames), interval = 1)\n",
    "HTML(ani.to_jshtml())"
   ]
  }
 ],
 "metadata": {
  "kernelspec": {
   "display_name": "drlnd",
   "language": "python",
   "name": "drlnd"
  },
  "language_info": {
   "codemirror_mode": {
    "name": "ipython",
    "version": 3
   },
   "file_extension": ".py",
   "mimetype": "text/x-python",
   "name": "python",
   "nbconvert_exporter": "python",
   "pygments_lexer": "ipython3",
   "version": "3.6.8"
  }
 },
 "nbformat": 4,
 "nbformat_minor": 2
}
