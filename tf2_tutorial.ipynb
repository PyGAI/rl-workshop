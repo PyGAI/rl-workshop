{
 "cells": [
  {
   "cell_type": "markdown",
   "metadata": {},
   "source": [
    "# @fchollet's Tensorflow 2.0 Crash Course"
   ]
  },
  {
   "cell_type": "code",
   "execution_count": 3,
   "metadata": {},
   "outputs": [],
   "source": [
    "import tensorflow as tf\n",
    "from tensorflow.keras.layers import Layer\n",
    "import math"
   ]
  },
  {
   "cell_type": "markdown",
   "metadata": {},
   "source": [
    "## Manually Create A Layer"
   ]
  },
  {
   "cell_type": "code",
   "execution_count": 4,
   "metadata": {},
   "outputs": [],
   "source": [
    "class Linear(Layer):\n",
    "    def __init__(self, input_dim=784, output_dim=32, c=2):\n",
    "        super(Linear,self).__init__()\n",
    "        w_init = tf.random_normal_initializer()\n",
    "        self.w = tf.Variable(\n",
    "            initial_value=w_init(shape=(input_dim,output_dim), dtype='float32') * c/math.sqrt(input_dim),\n",
    "            trainable=True\n",
    "        )\n",
    "        b_init = tf.zeros_initializer()\n",
    "        self.b = tf.Variable(\n",
    "            initial_value=b_init(shape=(output_dim,),dtype='float32'),\n",
    "            trainable=True\n",
    "        )\n",
    "    def call(self,x):\n",
    "        return tf.matmul(x,self.w) + self.b"
   ]
  },
  {
   "cell_type": "code",
   "execution_count": 5,
   "metadata": {},
   "outputs": [
    {
     "data": {
      "text/plain": [
       "TensorShape([10, 32])"
      ]
     },
     "execution_count": 5,
     "metadata": {},
     "output_type": "execute_result"
    }
   ],
   "source": [
    "x = tf.random.normal((10,784))\n",
    "l = Linear(784,32)\n",
    "l(x).shape"
   ]
  },
  {
   "cell_type": "markdown",
   "metadata": {},
   "source": [
    "## Build Method"
   ]
  },
  {
   "cell_type": "code",
   "execution_count": 1,
   "metadata": {},
   "outputs": [
    {
     "ename": "NameError",
     "evalue": "name 'Layer' is not defined",
     "output_type": "error",
     "traceback": [
      "\u001b[0;31m---------------------------------------------------------------------------\u001b[0m",
      "\u001b[0;31mNameError\u001b[0m                                 Traceback (most recent call last)",
      "\u001b[0;32m<ipython-input-1-e99c6518443f>\u001b[0m in \u001b[0;36m<module>\u001b[0;34m\u001b[0m\n\u001b[0;32m----> 1\u001b[0;31m \u001b[0;32mclass\u001b[0m \u001b[0mLinear\u001b[0m\u001b[0;34m(\u001b[0m\u001b[0mLayer\u001b[0m\u001b[0;34m)\u001b[0m\u001b[0;34m:\u001b[0m\u001b[0;34m\u001b[0m\u001b[0;34m\u001b[0m\u001b[0m\n\u001b[0m\u001b[1;32m      2\u001b[0m     \u001b[0;32mdef\u001b[0m \u001b[0m__init__\u001b[0m\u001b[0;34m(\u001b[0m\u001b[0mself\u001b[0m\u001b[0;34m,\u001b[0m \u001b[0moutput_dim\u001b[0m\u001b[0;34m=\u001b[0m\u001b[0;36m32\u001b[0m\u001b[0;34m)\u001b[0m\u001b[0;34m:\u001b[0m\u001b[0;34m\u001b[0m\u001b[0;34m\u001b[0m\u001b[0m\n\u001b[1;32m      3\u001b[0m         \u001b[0msuper\u001b[0m\u001b[0;34m(\u001b[0m\u001b[0mLinear\u001b[0m\u001b[0;34m,\u001b[0m\u001b[0mself\u001b[0m\u001b[0;34m)\u001b[0m\u001b[0;34m.\u001b[0m\u001b[0m__init__\u001b[0m\u001b[0;34m(\u001b[0m\u001b[0;34m)\u001b[0m\u001b[0;34m\u001b[0m\u001b[0;34m\u001b[0m\u001b[0m\n\u001b[1;32m      4\u001b[0m         \u001b[0mself\u001b[0m\u001b[0;34m.\u001b[0m\u001b[0moutput_dim\u001b[0m \u001b[0;34m=\u001b[0m \u001b[0moutput_dim\u001b[0m\u001b[0;34m\u001b[0m\u001b[0;34m\u001b[0m\u001b[0m\n\u001b[1;32m      5\u001b[0m     \u001b[0;32mdef\u001b[0m \u001b[0mbuild\u001b[0m\u001b[0;34m(\u001b[0m\u001b[0mself\u001b[0m\u001b[0;34m,\u001b[0m\u001b[0mx_shape\u001b[0m\u001b[0;34m)\u001b[0m\u001b[0;34m:\u001b[0m\u001b[0;34m\u001b[0m\u001b[0;34m\u001b[0m\u001b[0m\n",
      "\u001b[0;31mNameError\u001b[0m: name 'Layer' is not defined"
     ]
    }
   ],
   "source": [
    "class Linear(Layer):\n",
    "    def __init__(self, output_dim=32):\n",
    "        super(Linear,self).__init__()\n",
    "        self.output_dim = output_dim\n",
    "    def build(self,x_shape):\n",
    "        self.w = self.add_weight(shape=(x_shape[-1],self.output_dim),\n",
    "                                initializer='he_normal',trainable=True)\n",
    "        self.b = self.add_weight(shape=(self.output_dim,),\n",
    "                                initializer='zeros',trainable=True)\n",
    "    def call(self,x):\n",
    "        return tf.matmul(x,self.w) + self.b"
   ]
  },
  {
   "cell_type": "code",
   "execution_count": 7,
   "metadata": {},
   "outputs": [
    {
     "data": {
      "text/plain": [
       "TensorShape([10, 32])"
      ]
     },
     "execution_count": 7,
     "metadata": {},
     "output_type": "execute_result"
    }
   ],
   "source": [
    "x = tf.random.normal((10,784))\n",
    "l = Linear(32)\n",
    "l(x).shape"
   ]
  },
  {
   "cell_type": "markdown",
   "metadata": {},
   "source": [
    "## Dataset"
   ]
  },
  {
   "cell_type": "code",
   "execution_count": 10,
   "metadata": {},
   "outputs": [
    {
     "data": {
      "text/plain": [
       "((60000, 28, 28), (10000, 28, 28), (60000,), (10000,))"
      ]
     },
     "execution_count": 10,
     "metadata": {},
     "output_type": "execute_result"
    }
   ],
   "source": [
    "(x_train, y_train), (x_test, y_test) = tf.keras.datasets.fashion_mnist.load_data()\n",
    "x_train.shape,x_test.shape,y_train.shape,y_test.shape"
   ]
  },
  {
   "cell_type": "code",
   "execution_count": 31,
   "metadata": {},
   "outputs": [
    {
     "data": {
      "text/plain": [
       "<BatchDataset shapes: ((None, 784), (None,)), types: (tf.float32, tf.uint8)>"
      ]
     },
     "execution_count": 31,
     "metadata": {},
     "output_type": "execute_result"
    }
   ],
   "source": [
    "#datasets\n",
    "dataset = tf.data.Dataset.from_tensor_slices(\n",
    "    (x_train.reshape(60000,-1).astype('float32') / 255.,y_train),\n",
    "    ).shuffle(buffer_size=y_train.shape[0]).batch(64)\n",
    "dataset"
   ]
  },
  {
   "cell_type": "markdown",
   "metadata": {},
   "source": [
    "## Loss Function"
   ]
  },
  {
   "cell_type": "code",
   "execution_count": 32,
   "metadata": {},
   "outputs": [],
   "source": [
    "#sparse means not one-hot encoded\n",
    "loss_fn = tf.keras.losses.SparseCategoricalCrossentropy(from_logits=True)"
   ]
  },
  {
   "cell_type": "code",
   "execution_count": 33,
   "metadata": {},
   "outputs": [
    {
     "data": {
      "text/plain": [
       "<tf.Tensor: id=172948, shape=(), dtype=float32, numpy=1.4100529>"
      ]
     },
     "execution_count": 33,
     "metadata": {},
     "output_type": "execute_result"
    }
   ],
   "source": [
    "loss_fn(tf.constant([0,1,2]), #y\n",
    "        tf.constant([[0,1,0], #pred for each y; tensorflow calls raw prediction logits\n",
    "         [1,0.5,0.2],\n",
    "         [0.5,0.5,0]]))"
   ]
  },
  {
   "cell_type": "markdown",
   "metadata": {},
   "source": [
    "## Optimizer"
   ]
  },
  {
   "cell_type": "code",
   "execution_count": 34,
   "metadata": {},
   "outputs": [],
   "source": [
    "optimizer = tf.keras.optimizers.Adam(learning_rate = 1e-3,\n",
    "                                    beta_1=0.9, beta_2=0.999)"
   ]
  },
  {
   "cell_type": "markdown",
   "metadata": {},
   "source": [
    "## Training Loop"
   ]
  },
  {
   "cell_type": "code",
   "execution_count": 72,
   "metadata": {},
   "outputs": [
    {
     "name": "stdout",
     "output_type": "stream",
     "text": [
      "0 2.550394 0.015625\n",
      "100 0.5202041 0.828125\n",
      "200 0.5742572 0.796875\n",
      "300 0.54601276 0.828125\n",
      "400 0.401887 0.859375\n",
      "500 0.454468 0.8125\n",
      "600 0.4281699 0.875\n",
      "700 0.45130214 0.828125\n",
      "800 0.63539547 0.765625\n",
      "900 0.5161672 0.8125\n"
     ]
    }
   ],
   "source": [
    "l = Linear(10)\n",
    "for i,(x,y) in enumerate(dataset):\n",
    "    with tf.GradientTape() as tape:\n",
    "        preds = l(x) #prediction\n",
    "        loss = loss_fn(y,preds) #record loss\n",
    "        \n",
    "        gradients = tape.gradient(loss,l.trainable_weights) #record gradients\n",
    "    #update \n",
    "    optimizer.apply_gradients(zip(gradients,l.trainable_weights))\n",
    "    #log\n",
    "    if i % 100==0:\n",
    "        acc = (tf.nn.softmax(preds).numpy().argmax(1)==y.numpy()).mean()\n",
    "        print(i,loss.numpy(), acc)"
   ]
  },
  {
   "cell_type": "markdown",
   "metadata": {},
   "source": [
    "## Non-trainable Layers"
   ]
  },
  {
   "cell_type": "code",
   "execution_count": 114,
   "metadata": {},
   "outputs": [],
   "source": [
    "class ReduceSum(Layer):\n",
    "    def __init__(self,input_dim):\n",
    "        super(ReduceSum,self).__init__()\n",
    "        self.total = tf.Variable(initial_value=tf.zeros(input_dim), trainable=False)\n",
    "    def __call__(self,x):\n",
    "        col_sum = tf.reduce_sum(x,axis=0) #reduce\n",
    "        self.total.assign_add(col_sum) #add \n",
    "#         self.total.assign_add(tf.ones(10)) #add \n",
    "        return self.total"
   ]
  },
  {
   "cell_type": "code",
   "execution_count": 115,
   "metadata": {},
   "outputs": [
    {
     "data": {
      "text/plain": [
       "[array([0., 0., 0., 0., 0., 0., 0., 0., 0., 0.], dtype=float32)]"
      ]
     },
     "execution_count": 115,
     "metadata": {},
     "output_type": "execute_result"
    }
   ],
   "source": [
    "l = ReduceSum(10)\n",
    "l.get_weights()"
   ]
  },
  {
   "cell_type": "code",
   "execution_count": 116,
   "metadata": {},
   "outputs": [
    {
     "name": "stdout",
     "output_type": "stream",
     "text": [
      "[3. 3. 3. 3. 3. 3. 3. 3. 3. 3.]\n",
      "[6. 6. 6. 6. 6. 6. 6. 6. 6. 6.]\n",
      "[9. 9. 9. 9. 9. 9. 9. 9. 9. 9.]\n",
      "[12. 12. 12. 12. 12. 12. 12. 12. 12. 12.]\n",
      "[15. 15. 15. 15. 15. 15. 15. 15. 15. 15.]\n",
      "[18. 18. 18. 18. 18. 18. 18. 18. 18. 18.]\n",
      "[21. 21. 21. 21. 21. 21. 21. 21. 21. 21.]\n",
      "[24. 24. 24. 24. 24. 24. 24. 24. 24. 24.]\n",
      "[27. 27. 27. 27. 27. 27. 27. 27. 27. 27.]\n",
      "[30. 30. 30. 30. 30. 30. 30. 30. 30. 30.]\n"
     ]
    }
   ],
   "source": [
    "for i in range(10): \n",
    "    print(l(tf.ones((3,10))).numpy())"
   ]
  },
  {
   "cell_type": "markdown",
   "metadata": {},
   "source": [
    "## Stack Them Together"
   ]
  },
  {
   "cell_type": "code",
   "execution_count": 124,
   "metadata": {},
   "outputs": [],
   "source": [
    "#how to do nn.ModuleList\n",
    "class MLP(Layer):\n",
    "    def __init__(self,output_dims=[32,32,10]):\n",
    "        super(MLP,self).__init__()\n",
    "        self.linears = [Linear(i) for i in output_dims]\n",
    "    def call(self,x):\n",
    "        for l in self.linears[:-1]:\n",
    "            x = tf.nn.relu(l(x))\n",
    "        return self.linears[-1](x)"
   ]
  },
  {
   "cell_type": "code",
   "execution_count": 129,
   "metadata": {},
   "outputs": [
    {
     "data": {
      "text/plain": [
       "TensorShape([32, 10])"
      ]
     },
     "execution_count": 129,
     "metadata": {},
     "output_type": "execute_result"
    }
   ],
   "source": [
    "m = MLP([32,32,10])\n",
    "m(x).shape"
   ]
  },
  {
   "cell_type": "code",
   "execution_count": 130,
   "metadata": {},
   "outputs": [
    {
     "name": "stdout",
     "output_type": "stream",
     "text": [
      "0 2.3783333 0.0625\n",
      "100 0.5672692 0.78125\n",
      "200 0.57003796 0.78125\n",
      "300 0.4793804 0.875\n",
      "400 0.3243881 0.890625\n",
      "500 0.47998983 0.765625\n",
      "600 0.38265362 0.890625\n",
      "700 0.36116746 0.859375\n",
      "800 0.5555291 0.78125\n",
      "900 0.45142463 0.84375\n"
     ]
    }
   ],
   "source": [
    "for i,(x,y) in enumerate(dataset):\n",
    "    with tf.GradientTape() as tape:\n",
    "        preds = m(x) #prediction\n",
    "        loss = loss_fn(y,preds) #record loss\n",
    "        gradients = tape.gradient(loss,m.trainable_weights) #record gradients\n",
    "    #update \n",
    "    optimizer.apply_gradients(zip(gradients,m.trainable_weights))\n",
    "    #log\n",
    "    if i % 100==0:\n",
    "        acc = (tf.nn.softmax(preds).numpy().argmax(1)==y.numpy()).mean()\n",
    "        print(i,loss.numpy(), acc)"
   ]
  },
  {
   "cell_type": "markdown",
   "metadata": {},
   "source": [
    "## Layer-specific Loss"
   ]
  },
  {
   "cell_type": "code",
   "execution_count": 176,
   "metadata": {},
   "outputs": [],
   "source": [
    "#regularize based on sum of input; penalize dense features, we prefer less features\n",
    "class ActivityRegularization(Layer):\n",
    "    def __init__(self, rate=1e-2):\n",
    "        super(ActivityRegularization,self).__init__()\n",
    "        self.rate = rate\n",
    "    def call(self,x):\n",
    "        self.add_loss(self.rate * tf.reduce_sum(x))\n",
    "        self.add_loss(0)\n",
    "        return x"
   ]
  },
  {
   "cell_type": "code",
   "execution_count": 177,
   "metadata": {},
   "outputs": [],
   "source": [
    "#how to do nn.ModuleList\n",
    "class SparseMLP(Layer):\n",
    "    def __init__(self,output_dims=[32,32,10], rate=1e-2):\n",
    "        super(SparseMLP,self).__init__()\n",
    "        self.linears = [Linear(i) for i in output_dims]\n",
    "        self.reg = ActivityRegularization(rate)\n",
    "    def call(self,x):\n",
    "        for l in self.linears[:-1]:\n",
    "            x = tf.nn.relu(l(x))\n",
    "        x = self.reg(x) #return x; record loss\n",
    "        x = self.linears[-1](x)\n",
    "        return x"
   ]
  },
  {
   "cell_type": "code",
   "execution_count": 182,
   "metadata": {},
   "outputs": [
    {
     "name": "stdout",
     "output_type": "stream",
     "text": [
      "0 2.4885657 0.0625\n",
      "100 0.84381044 0.765625\n",
      "200 0.8076217 0.75\n",
      "300 0.69481254 0.84375\n",
      "400 0.5209669 0.875\n",
      "500 0.5760761 0.859375\n",
      "600 0.5034058 0.875\n",
      "700 0.5139364 0.875\n",
      "800 0.7161176 0.765625\n",
      "900 0.55102414 0.859375\n",
      "Done in 0:01:19.100688\n"
     ]
    }
   ],
   "source": [
    "from datetime import datetime\n",
    "start_time = datetime.now()\n",
    "\n",
    "#setup\n",
    "m = SparseMLP([32,10], 1e-4)\n",
    "loss_fn = tf.keras.losses.SparseCategoricalCrossentropy(from_logits=True)\n",
    "optimizer = tf.keras.optimizers.Adam(learning_rate = 1e-3,\n",
    "                                    beta_1=0.9, beta_2=0.999)\n",
    "\n",
    "#loop\n",
    "for i,(x,y) in enumerate(dataset):\n",
    "    with tf.GradientTape() as tape:\n",
    "        preds = m(x) #prediction\n",
    "        loss = loss_fn(y,preds) #record loss\n",
    "        loss += sum(m.losses) #add losses from layers\n",
    "        gradients = tape.gradient(loss,m.trainable_weights) #record gradients\n",
    "    #update \n",
    "    optimizer.apply_gradients(zip(gradients,m.trainable_weights))\n",
    "    #log\n",
    "    if i % 100==0:\n",
    "        acc = (tf.nn.softmax(preds).numpy().argmax(1)==y.numpy()).mean()\n",
    "        print(i,loss.numpy(), acc)\n",
    "\n",
    "print(f'Done in {datetime.now() - start_time}')"
   ]
  },
  {
   "cell_type": "markdown",
   "metadata": {},
   "source": [
    "## Static Graph"
   ]
  },
  {
   "cell_type": "code",
   "execution_count": 189,
   "metadata": {},
   "outputs": [
    {
     "name": "stdout",
     "output_type": "stream",
     "text": [
      "0 2.5101354 0.0625\n",
      "100 2.4080944 0.0625\n",
      "200 2.2871478 0.171875\n",
      "300 2.1330879 0.34375\n",
      "400 2.1797462 0.1875\n",
      "500 2.1442578 0.28125\n",
      "600 2.1344922 0.203125\n",
      "700 1.9918184 0.40625\n",
      "800 1.981747 0.34375\n",
      "900 1.9799223 0.328125\n",
      "Done in 0:00:03.034253\n"
     ]
    }
   ],
   "source": [
    "from datetime import datetime\n",
    "start_time = datetime.now()\n",
    "\n",
    "#set up\n",
    "m = SparseMLP([32,32,10],1e-4)\n",
    "loss_fn = tf.keras.losses.SparseCategoricalCrossentropy(from_logits=True)\n",
    "optimizer = tf.keras.optimizers.Adam(learning_rate = 1e-3,\n",
    "                                    beta_1=0.9, beta_2=0.999)\n",
    "#graph\n",
    "@tf.function\n",
    "def train_batch(x,y):\n",
    "    with tf.GradientTape() as tape:\n",
    "        preds = m(x)\n",
    "        loss = loss_fn(y,preds)\n",
    "        loss += sum(m.losses)\n",
    "        gradients = tape.gradient(loss,m.trainable_weights)\n",
    "    optimizer.apply_gradients(zip(gradients,m.trainable_weights))\n",
    "    return loss,preds\n",
    "\n",
    "#loop\n",
    "for i, (x,y) in enumerate(dataset):\n",
    "    if i % 100==0:\n",
    "        loss,preds = train_batch(x,y)\n",
    "        acc = (tf.nn.softmax(preds).numpy().argmax(1)==y.numpy()).mean()\n",
    "        print(i,loss.numpy(), acc)\n",
    "\n",
    "print(f'Done in {datetime.now() - start_time}')"
   ]
  },
  {
   "cell_type": "markdown",
   "metadata": {},
   "source": [
    "## Turn Off Layers"
   ]
  },
  {
   "cell_type": "code",
   "execution_count": 190,
   "metadata": {},
   "outputs": [],
   "source": [
    "class Dropout(Layer):\n",
    "    def __init__(self, p = 0.5):\n",
    "        super(Dropout,self).__init__()\n",
    "        self.p = p\n",
    "    #to remind it that if needs to be put in the graph\n",
    "    @tf.function\n",
    "    def __call__(self,x, training=True):\n",
    "        if training:\n",
    "            return tf.nn.dropout(x,rate=self.p)\n",
    "        return x\n",
    "    \n",
    "#how to do nn.ModuleList\n",
    "class DropoutMLP(Layer):\n",
    "    def __init__(self,output_dims=[32,32,10],p=0.5):\n",
    "        super(DropoutMLP,self).__init__()\n",
    "        self.linears = [Linear(i) for i in output_dims]\n",
    "        self.dropout = Dropout(p)\n",
    "    def call(self,x):\n",
    "        for l in self.linears[:-1]:\n",
    "            x = tf.nn.relu(l(x))\n",
    "        x = self.dropout(x)\n",
    "        return self.linears[-1](x)"
   ]
  },
  {
   "cell_type": "code",
   "execution_count": 193,
   "metadata": {},
   "outputs": [
    {
     "name": "stdout",
     "output_type": "stream",
     "text": [
      "0 2.3755062 0.1875\n",
      "100 2.3854315 0.046875\n",
      "200 2.302129 0.109375\n",
      "300 2.2056253 0.265625\n",
      "400 2.153767 0.21875\n",
      "500 2.1245136 0.28125\n",
      "600 2.1070633 0.265625\n",
      "700 2.0205166 0.46875\n",
      "800 1.9951811 0.375\n",
      "900 1.8572261 0.53125\n",
      "Done in 0:00:03.383339\n"
     ]
    }
   ],
   "source": [
    "from datetime import datetime\n",
    "start_time = datetime.now()\n",
    "\n",
    "#set up\n",
    "m = DropoutMLP([32,32,10],0.1)\n",
    "loss_fn = tf.keras.losses.SparseCategoricalCrossentropy(from_logits=True)\n",
    "optimizer = tf.keras.optimizers.Adam(learning_rate = 1e-3,\n",
    "                                    beta_1=0.9, beta_2=0.999)\n",
    "#graph\n",
    "@tf.function\n",
    "def train_batch(x,y):\n",
    "    with tf.GradientTape() as tape:\n",
    "        preds = m(x)\n",
    "        loss = loss_fn(y,preds)\n",
    "        loss += sum(m.losses)\n",
    "        gradients = tape.gradient(loss,m.trainable_weights)\n",
    "    optimizer.apply_gradients(zip(gradients,m.trainable_weights))\n",
    "    return loss,preds\n",
    "\n",
    "#loop\n",
    "for i, (x,y) in enumerate(dataset):\n",
    "    if i % 100==0:\n",
    "        loss,preds = train_batch(x,y)\n",
    "        acc = (tf.nn.softmax(preds).numpy().argmax(1)==y.numpy()).mean()\n",
    "        print(i,loss.numpy(), acc)\n",
    "\n",
    "print(f'Done in {datetime.now() - start_time}')"
   ]
  },
  {
   "cell_type": "code",
   "execution_count": null,
   "metadata": {},
   "outputs": [],
   "source": []
  }
 ],
 "metadata": {
  "kernelspec": {
   "display_name": "Python 3",
   "language": "python",
   "name": "python3"
  },
  "language_info": {
   "codemirror_mode": {
    "name": "ipython",
    "version": 3
   },
   "file_extension": ".py",
   "mimetype": "text/x-python",
   "name": "python",
   "nbconvert_exporter": "python",
   "pygments_lexer": "ipython3",
   "version": "3.6.8"
  }
 },
 "nbformat": 4,
 "nbformat_minor": 2
}
